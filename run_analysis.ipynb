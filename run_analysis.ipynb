{
 "cells": [
  {
   "cell_type": "markdown",
   "metadata": {},
   "source": [
    "# 📊 Analysis: Unbiased Area Estimation \n",
    "\n",
    "**Description**: This notebook performs __unbiased area estimation__ using annotated samples. It follows principles for analysis protocols outlined by Olofsson’s to provide accurate area estimates and uncertainty quantification."
   ]
  },
  {
   "cell_type": "code",
   "execution_count": null,
   "metadata": {},
   "outputs": [],
   "source": [
    "# Once you have annotaed your samples, you can run the following code to estimate the area of each class in the raster.\n",
    "from unbiased_area_estimation.analysis import UnbiasedAreaEstimator\n",
    "from IPython.display import display, HTML\n",
    "\n",
    "# Load the annotated samples\n",
    "ANNOTATED_SAMPLES_FOLDER = ''\n",
    "ANNOTATED_COLUMN_NAME = 'Crop Type' # Change this to the column name in your annotated samples that contains the class labels\n",
    "\n",
    "unbiased_area_estimator = UnbiasedAreaEstimator(results_dir=ANNOTATED_SAMPLES_FOLDER)\n",
    "unbiased_area_estimates = unbiased_area_estimator.get_unbiased_area_estimates(annotated_column_name=ANNOTATED_COLUMN_NAME)\n",
    "\n",
    "for region, estimates in unbiased_area_estimates.items():\n",
    "    classwise_estimates = estimates['classwise_metrics']\n",
    "    overall_estimates = estimates['overall_metrics']\n",
    "    display(HTML(f'<h2>{region}</h2><h3>Classwise Estimates</h3>'))\n",
    "    display(classwise_estimates.style.hide(axis=\"index\"))\n",
    "    display(HTML('<h3>Overall Estimates</h3>'))\n",
    "    display(overall_estimates.style.hide(axis=\"index\"))\n",
    "    display(HTML('<hr>'))"
   ]
  }
 ],
 "metadata": {
  "kernelspec": {
   "display_name": "3.10.16",
   "language": "python",
   "name": "python3"
  },
  "language_info": {
   "codemirror_mode": {
    "name": "ipython",
    "version": 3
   },
   "file_extension": ".py",
   "mimetype": "text/x-python",
   "name": "python",
   "nbconvert_exporter": "python",
   "pygments_lexer": "ipython3",
   "version": "3.10.16"
  }
 },
 "nbformat": 4,
 "nbformat_minor": 2
}
