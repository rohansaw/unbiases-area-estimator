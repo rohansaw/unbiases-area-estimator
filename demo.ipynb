{
 "cells": [
  {
   "cell_type": "markdown",
   "metadata": {},
   "source": [
    "## This Notebook demos how to run unbiased area estimation"
   ]
  },
  {
   "cell_type": "code",
   "execution_count": null,
   "metadata": {},
   "outputs": [],
   "source": [
    "%pip install -e ."
   ]
  },
  {
   "cell_type": "code",
   "execution_count": null,
   "metadata": {},
   "outputs": [],
   "source": [
    "# Import all the required functions\n",
    "\n",
    "from unbiased_area_estimation.utils import read_config\n",
    "from unbiased_area_estimation.unbiased_estimation import AreaEstimator\n",
    "from unbiased_area_estimation.sampling_allocation import create_sample_allocator"
   ]
  },
  {
   "cell_type": "code",
   "execution_count": null,
   "metadata": {},
   "outputs": [],
   "source": [
    "# Load your config file\n",
    "CONFIG_PATH = 'config.json' # Set the path to your config file here\n",
    "config = read_config(CONFIG_PATH)"
   ]
  },
  {
   "cell_type": "code",
   "execution_count": null,
   "metadata": {},
   "outputs": [],
   "source": [
    "#preprocess the raster and masks\n",
    "\n",
    "sample_allocator = create_sample_allocator(config['sampling'])\n",
    "\n",
    "area_estimator = AreaEstimator(\n",
    "    raster_path=config['raster_path'],\n",
    "    mask_paths=config['mask_paths'],\n",
    "    class_merge_dict=config['class_merge_dict'],\n",
    "    epsg=config['epsg'],\n",
    "    sample_allocator=sample_allocator,\n",
    "    temp_dir=config['output_dir'] if config['keep_preprocessed_files'] else None,\n",
    "    output_dir=config['output_dir'],\n",
    "    overwrite_existing=False,\n",
    "    )\n",
    "\n",
    "area_estimator.preprocess_files()"
   ]
  },
  {
   "cell_type": "code",
   "execution_count": null,
   "metadata": {},
   "outputs": [],
   "source": [
    "# Create the initial sample designs\n",
    "sampling_designs = area_estimator.create_sample_designs()\n",
    "print(sampling_designs)"
   ]
  },
  {
   "cell_type": "code",
   "execution_count": null,
   "metadata": {},
   "outputs": [],
   "source": [
    "# Adapt sampling designs\n",
    "\n",
    "#sampling_designs = {} # Copy the output from the cell above and modify according to your requirements.\n",
    "target_errors = area_estimator.get_expected_target_errors(sampling_designs)\n",
    "print(target_errors)"
   ]
  },
  {
   "cell_type": "code",
   "execution_count": null,
   "metadata": {},
   "outputs": [],
   "source": [
    "# Create the actual sample sets by sampling the raster with the number of samples per class\n",
    "sample_sets = area_estimator.create_sample_sets(sampling_designs)\n",
    "area_estimator.save_sample_sets(sample_sets=sample_sets, single_file=True)"
   ]
  },
  {
   "cell_type": "code",
   "execution_count": null,
   "metadata": {},
   "outputs": [],
   "source": [
    "# You should now annotate your samples. Once you have done that, you can run the following code to estimate the area of each class in the raster.\n",
    "# Use the original csv to save the annotated samples, if you do not want to change the paths.\n",
    "from unbiased_area_estimation.utils import compute_unbiased_areas_from_ceo\n",
    "from IPython.display import display, HTML\n",
    "\n",
    "# Load the annotated samples\n",
    "ANNOTATED_SAMPLES_FOLDER = config['output_dir']\n",
    "annotated_column_name = 'Crop Type' # Change this to the column name in your annotated samples that contains the class labels\n",
    "\n",
    "unbiased_area_estimates = compute_unbiased_areas_from_ceo(ANNOTATED_SAMPLES_FOLDER, annotated_column_name)\n",
    "\n",
    "display(HTML(unbiased_area_estimates.to_html()))"
   ]
  },
  {
   "cell_type": "code",
   "execution_count": null,
   "metadata": {},
   "outputs": [],
   "source": []
  }
 ],
 "metadata": {
  "kernelspec": {
   "display_name": "3.10.16",
   "language": "python",
   "name": "python3"
  },
  "language_info": {
   "codemirror_mode": {
    "name": "ipython",
    "version": 3
   },
   "file_extension": ".py",
   "mimetype": "text/x-python",
   "name": "python",
   "nbconvert_exporter": "python",
   "pygments_lexer": "ipython3",
   "version": "3.10.16"
  }
 },
 "nbformat": 4,
 "nbformat_minor": 2
}
