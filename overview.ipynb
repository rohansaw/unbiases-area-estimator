{
 "cells": [
  {
   "cell_type": "markdown",
   "metadata": {},
   "source": [
    "# ✨ Overview of Functionality (Without UI)\n",
    "\n",
    "**Description**: This Notebook demos how to run unbiased area estimation and outlines the main functionalities of the unbiased area estimation library. If you prefer to run the sampling design or analysis in a more interactive way, please use the run_sampling_design and run_analysis notebooks."
   ]
  },
  {
   "cell_type": "code",
   "execution_count": null,
   "metadata": {},
   "outputs": [],
   "source": [
    "%pip install -e ."
   ]
  },
  {
   "cell_type": "code",
   "execution_count": null,
   "metadata": {},
   "outputs": [],
   "source": [
    "# Import all the required functions\n",
    "\n",
    "from unbiased_area_estimation.config import Config\n",
    "from unbiased_area_estimation.sampling_design import SamplingDesignPipeline"
   ]
  },
  {
   "cell_type": "code",
   "execution_count": null,
   "metadata": {},
   "outputs": [],
   "source": [
    "# Load your config file\n",
    "\n",
    "CONFIG_PATH = 'config.json' # Set the path to your config file here\n",
    "config = Config.load_from_json(CONFIG_PATH)"
   ]
  },
  {
   "cell_type": "code",
   "execution_count": null,
   "metadata": {},
   "outputs": [],
   "source": [
    "# Preprocess the raster and masks\n",
    "\n",
    "sampling_design_pipeline = SamplingDesignPipeline(output_path=config.output_path, use_cached=config.use_cached, sampling_method=config.sampling.sampling_method)\n",
    "regions = sampling_design_pipeline.preprocess(map_path=config.map_path, mask_paths=config.mask_paths, target_spatial_ref=config.target_spatial_ref, class_merge_map=config.class_merge_map)"
   ]
  },
  {
   "cell_type": "code",
   "execution_count": null,
   "metadata": {},
   "outputs": [],
   "source": [
    "# Create the initial sample designs\n",
    "\n",
    "sampling_designs, design_details = sampling_design_pipeline.create_and_save_sampling_designs(regions=regions, expected_uas=config.sampling.expected_uas, target_error=config.sampling.target_error, allocation_method_name=config.sampling.allocation_method)\n",
    "print(sampling_designs)"
   ]
  },
  {
   "cell_type": "code",
   "execution_count": null,
   "metadata": {},
   "outputs": [],
   "source": [
    "# OPTIONAL: Adapt sampling designs\n",
    "\n",
    "# sampling_designs = {} # Copy the output from the cell above and modify according to your requirements.\n",
    "target_errors = sampling_design_pipeline.get_expected_target_errors(region_names=[r.name for r in regions], sampling_designs=sampling_designs)\n",
    "print(target_errors)"
   ]
  },
  {
   "cell_type": "code",
   "execution_count": null,
   "metadata": {},
   "outputs": [],
   "source": [
    "# Create the actual sample sets\n",
    "\n",
    "sample_sets = sampling_design_pipeline.sample_and_save(sampling_designs=sampling_designs, regions=regions, single_file=True)"
   ]
  },
  {
   "cell_type": "code",
   "execution_count": null,
   "metadata": {},
   "outputs": [],
   "source": [
    "# You should now annotate your samples. Once you have done that, you can run the following code to estimate the area of each class in the raster.\n",
    "# Use the original csv to save the annotated samples, if you do not want to change the paths.\n",
    "# If running at a later point, ensure to load the config file again (Run the second and third code cells)\n",
    "from unbiased_area_estimation.analysis import UnbiasedAreaEstimator\n",
    "\n",
    "# Load the annotated samples\n",
    "ANNOTATED_SAMPLES_FOLDER = config.output_path\n",
    "ANNOTATED_COLUMN_NAME = 'Crop Type' # Change this to the column name in your annotated samples that contains the class labels\n",
    "\n",
    "unbiased_area_estimator = UnbiasedAreaEstimator(results_dir=ANNOTATED_SAMPLES_FOLDER)\n",
    "unbiased_area_estimates = unbiased_area_estimator.get_unbiased_area_estimates(annotated_column_name=ANNOTATED_COLUMN_NAME)\n",
    "print(unbiased_area_estimates)"
   ]
  },
  {
   "cell_type": "code",
   "execution_count": null,
   "metadata": {},
   "outputs": [],
   "source": []
  }
 ],
 "metadata": {
  "kernelspec": {
   "display_name": "3.10.16",
   "language": "python",
   "name": "python3"
  },
  "language_info": {
   "codemirror_mode": {
    "name": "ipython",
    "version": 3
   },
   "file_extension": ".py",
   "mimetype": "text/x-python",
   "name": "python",
   "nbconvert_exporter": "python",
   "pygments_lexer": "ipython3",
   "version": "3.10.16"
  }
 },
 "nbformat": 4,
 "nbformat_minor": 2
}
