{
 "cells": [
  {
   "cell_type": "markdown",
   "metadata": {},
   "source": [
    "# 📊 Analysis: Unbiased Area Estimation \n",
    "\n",
    "**Description**: This notebook performs __unbiased area estimation__ using annotated samples. It follows principles for analysis protocols outlined by Olofsson’s to provide accurate area estimates and uncertainty quantification."
   ]
  },
  {
   "cell_type": "code",
   "execution_count": 1,
   "metadata": {},
   "outputs": [
    {
     "ename": "FileNotFoundError",
     "evalue": "[Errno 2] No such file or directory: '/path/to/annotated_samples_folder'",
     "output_type": "error",
     "traceback": [
      "\u001b[0;31m---------------------------------------------------------------------------\u001b[0m",
      "\u001b[0;31mFileNotFoundError\u001b[0m                         Traceback (most recent call last)",
      "Cell \u001b[0;32mIn[1], line 9\u001b[0m\n\u001b[1;32m      6\u001b[0m ANNOTATED_COLUMN_NAME \u001b[38;5;241m=\u001b[39m \u001b[38;5;124m'\u001b[39m\u001b[38;5;124mCrop Type\u001b[39m\u001b[38;5;124m'\u001b[39m \u001b[38;5;66;03m# Set this to the column name in your annotated samples that contains the class labels\u001b[39;00m\n\u001b[1;32m      8\u001b[0m \u001b[38;5;66;03m# Compute the unbiased area estimates\u001b[39;00m\n\u001b[0;32m----> 9\u001b[0m unbiased_area_estimates \u001b[38;5;241m=\u001b[39m \u001b[43mcompute_unbiased_areas_from_ceo\u001b[49m\u001b[43m(\u001b[49m\u001b[43mANNOTATED_SAMPLES_FOLDER\u001b[49m\u001b[43m,\u001b[49m\u001b[43m \u001b[49m\u001b[43mANNOTATED_COLUMN_NAME\u001b[49m\u001b[43m)\u001b[49m\n\u001b[1;32m     11\u001b[0m display(HTML(unbiased_area_estimates\u001b[38;5;241m.\u001b[39mto_html()))\n",
      "File \u001b[0;32m~/nasa-harvest/unbiases-area-estimator/src/unbiased_area_estimation/utils.py:37\u001b[0m, in \u001b[0;36mcompute_unbiased_areas_from_ceo\u001b[0;34m(annotated_samples_folder, annotated_column_name)\u001b[0m\n\u001b[1;32m     33\u001b[0m \u001b[38;5;28;01mdef\u001b[39;00m \u001b[38;5;21mcompute_unbiased_areas_from_ceo\u001b[39m(\n\u001b[1;32m     34\u001b[0m     annotated_samples_folder: \u001b[38;5;28mstr\u001b[39m, annotated_column_name: \u001b[38;5;28mstr\u001b[39m \u001b[38;5;241m=\u001b[39m \u001b[38;5;124m\"\u001b[39m\u001b[38;5;124mclass_id\u001b[39m\u001b[38;5;124m\"\u001b[39m\n\u001b[1;32m     35\u001b[0m ):\n\u001b[1;32m     36\u001b[0m     annotated_sample_files \u001b[38;5;241m=\u001b[39m [\n\u001b[0;32m---> 37\u001b[0m         f \u001b[38;5;28;01mfor\u001b[39;00m f \u001b[38;5;129;01min\u001b[39;00m \u001b[43mos\u001b[49m\u001b[38;5;241;43m.\u001b[39;49m\u001b[43mlistdir\u001b[49m\u001b[43m(\u001b[49m\u001b[43mannotated_samples_folder\u001b[49m\u001b[43m)\u001b[49m \u001b[38;5;28;01mif\u001b[39;00m f\u001b[38;5;241m.\u001b[39mendswith(\u001b[38;5;124m\"\u001b[39m\u001b[38;5;124msamples.csv\u001b[39m\u001b[38;5;124m\"\u001b[39m)\n\u001b[1;32m     38\u001b[0m     ]\n\u001b[1;32m     39\u001b[0m     sampling_design_files \u001b[38;5;241m=\u001b[39m [\n\u001b[1;32m     40\u001b[0m         f \u001b[38;5;28;01mfor\u001b[39;00m f \u001b[38;5;129;01min\u001b[39;00m os\u001b[38;5;241m.\u001b[39mlistdir(annotated_samples_folder) \u001b[38;5;28;01mif\u001b[39;00m f\u001b[38;5;241m.\u001b[39mendswith(\u001b[38;5;124m\"\u001b[39m\u001b[38;5;124mdesign.csv\u001b[39m\u001b[38;5;124m\"\u001b[39m)\n\u001b[1;32m     41\u001b[0m     ]\n\u001b[1;32m     43\u001b[0m     results \u001b[38;5;241m=\u001b[39m {}\n",
      "\u001b[0;31mFileNotFoundError\u001b[0m: [Errno 2] No such file or directory: '/path/to/annotated_samples_folder'"
     ]
    }
   ],
   "source": [
    "from unbiased_area_estimation.utils import compute_unbiased_areas_from_ceo\n",
    "from IPython.display import display, HTML\n",
    "\n",
    "# Load the annotated samples\n",
    "ANNOTATED_SAMPLES_FOLDER = '/path/to/annotated_samples_folder' # Set this to the path to the folder that contains the annotated samples AND the sampling_design files. Ensure you did not alter the names of the filess\n",
    "ANNOTATED_COLUMN_NAME = 'Crop Type' # Set this to the column name in your annotated samples that contains the class labels\n",
    "\n",
    "# Compute the unbiased area estimates\n",
    "unbiased_area_estimates = compute_unbiased_areas_from_ceo(ANNOTATED_SAMPLES_FOLDER, ANNOTATED_COLUMN_NAME)\n",
    "\n",
    "display(HTML(unbiased_area_estimates.to_html()))"
   ]
  }
 ],
 "metadata": {
  "kernelspec": {
   "display_name": "3.10.16",
   "language": "python",
   "name": "python3"
  },
  "language_info": {
   "codemirror_mode": {
    "name": "ipython",
    "version": 3
   },
   "file_extension": ".py",
   "mimetype": "text/x-python",
   "name": "python",
   "nbconvert_exporter": "python",
   "pygments_lexer": "ipython3",
   "version": "3.10.16"
  }
 },
 "nbformat": 4,
 "nbformat_minor": 2
}
